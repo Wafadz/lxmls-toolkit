{
 "cells": [
  {
   "cell_type": "markdown",
   "metadata": {},
   "source": [
    "### Amazon Sentiment Data"
   ]
  },
  {
   "cell_type": "code",
   "execution_count": null,
   "metadata": {},
   "outputs": [],
   "source": [
    "import lxmls.readers.sentiment_reader as srs\n",
    "from lxmls.deep_learning.utils import Data\n",
    "corpus = srs.SentimentCorpus(\"books\")\n",
    "amazon_sentiment_data = Data(corpus=corpus)"
   ]
  },
  {
   "cell_type": "markdown",
   "metadata": {},
   "source": [
    "### A Shallow Model: Log-Linear in Numpy"
   ]
  },
  {
   "cell_type": "code",
   "execution_count": null,
   "metadata": {},
   "outputs": [],
   "source": [
    "from lxmls.deep_learning.utils import Model, glorot_weight_init, index2onehot\n",
    "import numpy as np\n",
    "from scipy.misc import logsumexp\n",
    "\n",
    "class NumpyLogLinear(Model):\n",
    "    \n",
    "    def __init__(self, **config):\n",
    "        \n",
    "        # Initialize parameters\n",
    "        weight_shape = (config['input_size'], config['num_classes'])\n",
    "        # after Xavier Glorot et al\n",
    "        self.weight = glorot_weight_init(weight_shape, 'softmax')\n",
    "        self.bias = np.zeros((1, config['num_classes']))\n",
    "        self.learning_rate = config['learning_rate']\n",
    "        \n",
    "    def log_forward(self, input=None):  \n",
    "        \"\"\"Forward pass of the computation graph\"\"\"\n",
    "        \n",
    "        # Linear transformation\n",
    "        z = np.dot(input, self.weight.T) + self.bias\n",
    "        \n",
    "        # Softmax implemented in log domain\n",
    "        log_tilde_z = z - logsumexp(z, axis=1)[:, None]\n",
    "        \n",
    "        return log_tilde_z\n",
    "        \n",
    "    def predict(self, input=None):\n",
    "        \"\"\"Most probable class index\"\"\"\n",
    "        return np.argmax(np.exp(self.log_forward(input)), axis=1)      \n",
    "     \n",
    "    def update(self, input=None, output=None):\n",
    "        \"\"\"Stochastic Gradient Descent update\"\"\"\n",
    "        \n",
    "        # Probabilities of each class\n",
    "        class_probabilities = np.exp(self.log_forward(input))\n",
    "        batch_size, num_classes = class_probabilities.shape\n",
    "        \n",
    "        # Error derivative at softmax layer\n",
    "        I = index2onehot(output, num_classes)\n",
    "        error = (class_probabilities - I) / batch_size\n",
    "        \n",
    "        # Weight gradient\n",
    "        gradient_weight = np.zeros(self.weight.shape)\n",
    "        for l in range(batch_size):\n",
    "            gradient_weight += np.outer(error[l, :], input[l, :])\n",
    "        \n",
    "        # Bias gradient\n",
    "        gradient_bias = np.sum(error, axis=0, keepdims=True)\n",
    "        \n",
    "        # SGD update\n",
    "        self.weight = self.weight - self.learning_rate * gradient_weight\n",
    "        self.bias = self.bias - self.learning_rate * gradient_bias"
   ]
  },
  {
   "cell_type": "markdown",
   "metadata": {},
   "source": [
    "### Training Bench"
   ]
  },
  {
   "cell_type": "code",
   "execution_count": null,
   "metadata": {},
   "outputs": [],
   "source": [
    "def train(data=None, model=None, batch_size=None, num_epochs=None):\n",
    "    \"\"\"Training bench for model and data\"\"\"\n",
    "\n",
    "    # Get batch iterators for train and test\n",
    "    train_batches = data.batches('train', batch_size=batch_size)\n",
    "    test_set = data.batches('test', batch_size=None)[0]\n",
    "\n",
    "    # Epoch loop\n",
    "    for epoch in range(num_epochs):\n",
    "\n",
    "        # Batch loop\n",
    "        for batch in train_batches:\n",
    "            model.update(input=batch['input'], output=batch['output'])\n",
    "\n",
    "        # Prediction for this epoch\n",
    "        hat_y = model.predict(input=test_set['input'])\n",
    "\n",
    "        # Evaluation\n",
    "        accuracy = 100*np.mean(hat_y == test_set['output'])\n",
    "\n",
    "        # Inform user\n",
    "        print(\"Epoch %d: accuracy %2.2f %%\" % (epoch+1, accuracy))"
   ]
  },
  {
   "cell_type": "markdown",
   "metadata": {},
   "source": [
    "### Exercise 2.1 Train Log Linear in Numpy\n",
    "Try to understand mode above, run it and test some hyperparematers"
   ]
  },
  {
   "cell_type": "code",
   "execution_count": null,
   "metadata": {},
   "outputs": [],
   "source": [
    "np_loglin = NumpyLogLinear(\n",
    "    input_size=corpus.nr_features,\n",
    "    num_classes=2, \n",
    "    learning_rate=0.05\n",
    ")"
   ]
  },
  {
   "cell_type": "code",
   "execution_count": null,
   "metadata": {},
   "outputs": [],
   "source": [
    "train(\n",
    "    data=amazon_sentiment_data,\n",
    "    model=np_loglin,\n",
    "    num_epochs=10,\n",
    "    batch_size=5\n",
    ")"
   ]
  },
  {
   "cell_type": "markdown",
   "metadata": {},
   "source": [
    "### Exercise 2.2 Implement Backpropagation for an MLP in Numpy and train it"
   ]
  },
  {
   "cell_type": "code",
   "execution_count": null,
   "metadata": {},
   "outputs": [],
   "source": [
    "# Model\n",
    "geometry = [corpus.nr_features, 20, 2]\n",
    "activation_functions = ['sigmoid', 'softmax']\n",
    "# Optimization\n",
    "learning_rate = 0.05\n",
    "num_epochs = 10\n",
    "batch_size = 5"
   ]
  },
  {
   "cell_type": "code",
   "execution_count": null,
   "metadata": {},
   "outputs": [],
   "source": [
    "from lxmls.deep_learning.numpy_models.mlp import NumpyMLP\n",
    "np_mlp = NumpyMLP(\n",
    "    geometry=geometry,\n",
    "    activation_functions=activation_functions,\n",
    "    learning_rate=learning_rate\n",
    ")"
   ]
  },
  {
   "cell_type": "markdown",
   "metadata": {},
   "source": [
    "Check graidients using the empirical gradient computation"
   ]
  },
  {
   "cell_type": "code",
   "execution_count": null,
   "metadata": {},
   "outputs": [],
   "source": [
    "from lxmls.deep_learning.numpy_models.mlp import cross_entropy_loss, backpropagation\n",
    "batch = amazon_sentiment_data.batches('train', batch_size=5)[0]"
   ]
  },
  {
   "cell_type": "code",
   "execution_count": null,
   "metadata": {},
   "outputs": [],
   "source": [
    "def get_empirical_gradient(loss, input, output, parameters):\n",
    "    \"\"\"Returns function that yields empirical gradient\"\"\"\n",
    "    def empirical_gradient(parameter_index, index, row, column):\n",
    "        # To select a range of perturbation use 3 sigmas\n",
    "        weights = parameters[parameter_index][index]\n",
    "        sigma = weights.std()\n",
    "        # \n",
    "        study_weight = float(weights[row, column])\n",
    "        study_loss = []\n",
    "        perturbation_range = np.linspace(-100*sigma, 100*sigma, 1000)\n",
    "        center_loss = loss(input, output, parameters)\n",
    "        for perturbation in perturbation_range:\n",
    "            parameters[parameter_index][index][row, column] = study_weight + perturbation\n",
    "            study_loss.append(loss(input, output, parameters))\n",
    "        parameters[parameter_index][index][row, column] = study_weight\n",
    "        return perturbation_range, np.array(study_loss), study_weight, center_loss\n",
    "    return empirical_gradient"
   ]
  },
  {
   "cell_type": "code",
   "execution_count": null,
   "metadata": {},
   "outputs": [],
   "source": [
    "gradient2 = -backpropagation(\n",
    "    batch['input'],\n",
    "    batch['output'],\n",
    "    np_mlp.parameters\n",
    ")[1][0][1, 2]"
   ]
  },
  {
   "cell_type": "code",
   "execution_count": null,
   "metadata": {},
   "outputs": [],
   "source": [
    "gradient = get_empirical_gradient(\n",
    "    cross_entropy_loss,\n",
    "    batch['input'],\n",
    "    batch['output'],\n",
    "    np_mlp.parameters\n",
    ")"
   ]
  },
  {
   "cell_type": "code",
   "execution_count": null,
   "metadata": {},
   "outputs": [],
   "source": [
    "%matplotlib inline\n",
    "import matplotlib.pyplot as plt\n",
    "# Plot empirical\n",
    "x, y, point_x, point_y = gradient(1, 0, 1, 2)\n",
    "plt.plot(x + point_x, y)\n",
    "plt.plot(point_x, point_y, 'xr')\n",
    "# Plot real\n",
    "range_x = x + point_x\n",
    "plt.plot(range_x, gradient2*(range_x - point_x) + point_y, 'r--')"
   ]
  },
  {
   "cell_type": "code",
   "execution_count": null,
   "metadata": {},
   "outputs": [],
   "source": [
    "train(\n",
    "    data=amazon_sentiment_data,\n",
    "    model=np_mlp,\n",
    "    num_epochs=num_epochs,\n",
    "    batch_size=batch_size\n",
    ")"
   ]
  },
  {
   "cell_type": "markdown",
   "metadata": {},
   "source": [
    "### Exercise 2.3  Train Log Linear in Pytorch\n",
    "Try to understand mode above, compare it with Exercise 2.1. Run it and test some hyperparematers"
   ]
  },
  {
   "cell_type": "code",
   "execution_count": null,
   "metadata": {},
   "outputs": [],
   "source": [
    "import torch\n",
    "from torch.autograd import Variable\n",
    "\n",
    "class PytorchLogLinear(Model):\n",
    "    \n",
    "    def __init__(self, **config):\n",
    "        \n",
    "        # Initialize parameters\n",
    "        weight_shape = (config['input_size'], config['num_classes'])\n",
    "        # after Xavier Glorot et al\n",
    "        self.weight = glorot_weight_init(weight_shape, 'softmax')\n",
    "        self.bias = np.zeros((1, config['num_classes']))\n",
    "        self.learning_rate = config['learning_rate']\n",
    "        \n",
    "        # IMPORTANT: Cast to pytorch format\n",
    "        self.weight = Variable(torch.from_numpy(self.weight).float(), requires_grad=True)\n",
    "        self.bias = Variable(torch.from_numpy(self.bias).float(), requires_grad=True)\n",
    "        \n",
    "    def _log_forward(self, input=None):  \n",
    "        \"\"\"Forward pass of the computation graph in logarithm domain (pytorch)\"\"\"\n",
    "        \n",
    "        # IMPORTANT: Cast to pytorch format\n",
    "        input = Variable(torch.from_numpy(input).float(), requires_grad=False)\n",
    "        \n",
    "        # Linear transformation\n",
    "        z =  torch.matmul(input, torch.t(self.weight)) + self.bias\n",
    "        \n",
    "        # Softmax implemented in log domain\n",
    "        log_tilde_z = torch.nn.LogSoftmax()(z)\n",
    "        \n",
    "        # NOTE that this is a pytorch class!\n",
    "        return log_tilde_z\n",
    "            \n",
    "    def predict(self, input=None):\n",
    "        \"\"\"Most probably class index\"\"\"\n",
    "        log_forward = self._log_forward(input).data.numpy()\n",
    "        return np.argmax(np.exp(log_forward), axis=1)\n",
    "        \n",
    "    def update(self, input=None, output=None):\n",
    "        \"\"\"Stochastic Gradient Descent update\"\"\"\n",
    "        \n",
    "        # IMPORTANT: Class indices need to be casted to LONG\n",
    "        true_class = Variable(torch.from_numpy(output).long(), requires_grad=False)\n",
    "        \n",
    "        # Compute negative log-likelihood loss\n",
    "        loss = torch.nn.NLLLoss()(self._log_forward(input), true_class)\n",
    "        # Use autograd to compute the backward pass.\n",
    "        loss.backward()\n",
    "        \n",
    "        # SGD update\n",
    "        self.weight.data -= self.learning_rate * self.weight.grad.data\n",
    "        self.bias.data -= self.learning_rate * self.bias.grad.data\n",
    "        \n",
    "        # Zero gradients\n",
    "        self.weight.grad.data.zero_()\n",
    "        self.bias.grad.data.zero_()\n",
    "        \n",
    "        return loss.data.numpy()"
   ]
  },
  {
   "cell_type": "code",
   "execution_count": null,
   "metadata": {},
   "outputs": [],
   "source": [
    "pt_loglin = PytorchLogLinear(\n",
    "    input_size=corpus.nr_features,\n",
    "    num_classes=2, \n",
    "    learning_rate=learning_rate\n",
    ")"
   ]
  },
  {
   "cell_type": "code",
   "execution_count": null,
   "metadata": {},
   "outputs": [],
   "source": [
    "train(\n",
    "    data=amazon_sentiment_data,\n",
    "    model=pt_loglin,\n",
    "    num_epochs=num_epochs,\n",
    "    batch_size=batch_size\n",
    ")"
   ]
  },
  {
   "cell_type": "markdown",
   "metadata": {},
   "source": [
    "### Exercise 2.4 Implement Pytorch Forward pass"
   ]
  },
  {
   "cell_type": "code",
   "execution_count": null,
   "metadata": {},
   "outputs": [],
   "source": [
    "from lxmls.deep_learning.pytorch_models.mlp import PytorchMLP\n",
    "pt_mlp = PytorchMLP(\n",
    "    geometry=geometry,\n",
    "    activation_functions=activation_functions,\n",
    "    learning_rate=learning_rate\n",
    ")"
   ]
  },
  {
   "cell_type": "code",
   "execution_count": null,
   "metadata": {},
   "outputs": [],
   "source": [
    "train(\n",
    "    data=amazon_sentiment_data,\n",
    "    model=pt_mlp,\n",
    "    num_epochs=num_epochs,\n",
    "    batch_size=batch_size\n",
    ")"
   ]
  },
  {
   "cell_type": "code",
   "execution_count": null,
   "metadata": {},
   "outputs": [],
   "source": []
  }
 ],
 "metadata": {
  "kernelspec": {
   "display_name": "Python 2",
   "language": "python",
   "name": "python2"
  },
  "language_info": {
   "codemirror_mode": {
    "name": "ipython",
    "version": 2
   },
   "file_extension": ".py",
   "mimetype": "text/x-python",
   "name": "python",
   "nbconvert_exporter": "python",
   "pygments_lexer": "ipython2",
   "version": "2.7.5"
  }
 },
 "nbformat": 4,
 "nbformat_minor": 1
}
