{
 "cells": [
  {
   "cell_type": "markdown",
   "metadata": {},
   "source": [
    "# Day 6: Sequence Models in Deep Learning"
   ]
  },
  {
   "cell_type": "markdown",
   "metadata": {},
   "source": [
    "### Exercise 6.1 \n",
    "Convince yourself a RNN is just an FF unfolded in time. Run the NumpyRNN code. Set break-points and compare with what you learned about back-propagation in the previous day.\n",
    "\n",
    "Start by loading data Part-of-speech data and configure it for the exercises"
   ]
  },
  {
   "cell_type": "markdown",
   "metadata": {},
   "source": [
    "### WSJ Data"
   ]
  },
  {
   "cell_type": "code",
   "execution_count": null,
   "metadata": {},
   "outputs": [],
   "source": [
    "# Load Part-of-Speech data \n",
    "from lxmls.readers.pos_corpus import PostagCorpusData\n",
    "data = PostagCorpusData()"
   ]
  },
  {
   "cell_type": "markdown",
   "metadata": {},
   "source": [
    "Model configuration"
   ]
  },
  {
   "cell_type": "code",
   "execution_count": null,
   "metadata": {},
   "outputs": [],
   "source": [
    "import lxmls.deep_learning.numpy_models.rnn as rnns\n",
    "reload(rnns)"
   ]
  },
  {
   "cell_type": "code",
   "execution_count": null,
   "metadata": {},
   "outputs": [],
   "source": [
    "# RNN configuration\n",
    "embedding_size = 50   # Size of word embeddings\n",
    "hidden_size = 20     # size of hidden layer"
   ]
  },
  {
   "cell_type": "code",
   "execution_count": null,
   "metadata": {},
   "outputs": [],
   "source": [
    "model = rnns.NumpyRNN(\n",
    "    input_size=data.input_size,\n",
    "    embedding_size=embedding_size,\n",
    "    hidden_size=hidden_size,\n",
    "    output_size=data.output_size\n",
    ")"
   ]
  },
  {
   "cell_type": "code",
   "execution_count": null,
   "metadata": {},
   "outputs": [],
   "source": [
    "train_batches = data.batches('train', batch_size=1)"
   ]
  },
  {
   "cell_type": "markdown",
   "metadata": {},
   "source": [
    "#### Milestone 1:\n",
    "\n",
    "Check gradients using the empirical gradient computation"
   ]
  },
  {
   "cell_type": "code",
   "execution_count": null,
   "metadata": {},
   "outputs": [],
   "source": [
    "from lxmls.deep_learning.rnn import rnn_parameter_handlers\n",
    "from lxmls.deep_learning.numpy_models.rnn import cross_entropy_loss, backpropagation\n",
    "batch = data.batches('train', batch_size=1)[0]"
   ]
  },
  {
   "cell_type": "code",
   "execution_count": null,
   "metadata": {},
   "outputs": [],
   "source": [
    "gradient = backpropagation(batch['input'], batch['output'], model.parameters)"
   ]
  },
  {
   "cell_type": "code",
   "execution_count": null,
   "metadata": {},
   "outputs": [],
   "source": [
    "# Select one parameter from the network\n",
    "layer_index = -1 # 0\n",
    "row = 1\n",
    "column = 1"
   ]
  },
  {
   "cell_type": "code",
   "execution_count": null,
   "metadata": {},
   "outputs": [],
   "source": [
    "# Get functions to get and set values of a particular parameter of the model\n",
    "get_parameter, set_parameter = rnn_parameter_handlers(\n",
    "    layer_index=layer_index,\n",
    "    row=row, \n",
    "    column=column\n",
    ")"
   ]
  },
  {
   "cell_type": "code",
   "execution_count": null,
   "metadata": {},
   "outputs": [],
   "source": [
    "import numpy as np\n",
    "from copy import deepcopy\n",
    "\n",
    "scale = 30\n",
    "resolution = 1000\n",
    "perturbations = np.linspace(-scale, scale, resolution)\n",
    "\n",
    "# Get study weight value and loss\n",
    "study_loss = cross_entropy_loss(batch['input'], batch['output'], model.parameters)\n",
    "\n",
    "# Compute the loss when varying the study weight\n",
    "parameters = deepcopy(model.parameters)\n",
    "study_weight = float(get_parameter(parameters))\n",
    "loss_range = []\n",
    "for perturbation in perturbations:\n",
    "    perturbated_parameters = set_parameter(parameters, study_weight + perturbation)\n",
    "    perturbated_loss = cross_entropy_loss(batch['input'], batch['output'], perturbated_parameters)\n",
    "    loss_range.append(perturbated_loss)"
   ]
  },
  {
   "cell_type": "code",
   "execution_count": null,
   "metadata": {},
   "outputs": [],
   "source": [
    "%matplotlib inline\n",
    "import matplotlib.pyplot as plt\n",
    "# Plot empirical\n",
    "weight_range = study_weight + perturbations\n",
    "plt.plot(weight_range, loss_range)\n",
    "plt.plot(study_weight, study_loss, 'xr')\n",
    "# Plot real\n",
    "h = plt.plot(\n",
    "    weight_range,\n",
    "    get_parameter(gradient)*(weight_range - study_weight) + study_loss, \n",
    "    'r--'\n",
    ")"
   ]
  },
  {
   "cell_type": "markdown",
   "metadata": {},
   "source": [
    "### Exercise 6.2\n",
    "Understand the basics of scan with this examples. Scan allows you to build computation graphs with a variable number of nodes. It acts as a python \"for\" loop but it is symbolic. The following example should help you understand the basic scan functionality. It generates a sequence for a given length. Run it and modify it. Try to arrive at an error."
   ]
  },
  {
   "cell_type": "code",
   "execution_count": null,
   "metadata": {},
   "outputs": [],
   "source": [
    "import numpy as np\n",
    "import theano\n",
    "import theano.tensor as T\n",
    "theano.config.optimizer='None'"
   ]
  },
  {
   "cell_type": "code",
   "execution_count": null,
   "metadata": {},
   "outputs": [],
   "source": [
    "def square(x): \n",
    "    return x**2 \n",
    "\n",
    "# Python\n",
    "def np_square_n_steps(nr_steps):\n",
    "    out = []\n",
    "    for n in np.arange(nr_steps):\n",
    "        out.append(square(n))\n",
    "    return np.array(out)\n",
    "    \n",
    "# Theano\n",
    "nr_steps = T.lscalar('nr_steps')\n",
    "h, _ = theano.scan(fn=square, sequences=T.arange(nr_steps))\n",
    "th_square_n_steps = theano.function([nr_steps], h)"
   ]
  },
  {
   "cell_type": "code",
   "execution_count": null,
   "metadata": {},
   "outputs": [],
   "source": [
    "print np_square_n_steps(10)\n",
    "print th_square_n_steps(10)"
   ]
  },
  {
   "cell_type": "markdown",
   "metadata": {},
   "source": [
    "The following example should help you understand about matrix multiplications and passing values from one iteration to the other. It at each step it we multiply the output of the previous step by a matrix A. We start with an initial vector s0. The matrix and vector are random but normalized to result on a Markov chain.  "
   ]
  },
  {
   "cell_type": "code",
   "execution_count": null,
   "metadata": {},
   "outputs": [],
   "source": [
    "# Configuration\n",
    "nr_states = 3\n",
    "nr_steps = 5\n",
    "\n",
    "# Transition matrix\n",
    "A = np.abs(np.random.randn(nr_states, nr_states))\n",
    "A = A/A.sum(0, keepdims=True)\n",
    "# Initial state\n",
    "s0 = np.zeros(nr_states)\n",
    "s0[0] = 1"
   ]
  },
  {
   "cell_type": "code",
   "execution_count": null,
   "metadata": {},
   "outputs": [],
   "source": [
    "# Numpy version\n",
    "def np_markov_step(s_tm1): \n",
    "    s_t = np.dot(s_tm1, A.T)\n",
    "    return s_t \n",
    "\n",
    "def np_markov_chain(nr_steps, A, s0):\n",
    "    # Pre-allocate space\n",
    "    s = np.zeros((nr_steps+1, nr_states))\n",
    "    s[0, :] = s0\n",
    "    for t in np.arange(nr_steps):\n",
    "        s[t+1, :] = np_markov_step(s[t, :])\n",
    "    return  s           "
   ]
  },
  {
   "cell_type": "code",
   "execution_count": null,
   "metadata": {},
   "outputs": [],
   "source": [
    "np_markov_chain(nr_steps, A, s0)"
   ]
  },
  {
   "cell_type": "code",
   "execution_count": null,
   "metadata": {},
   "outputs": [],
   "source": [
    "# Theano version\n",
    "# Store variables as shared variables\n",
    "th_A = theano.shared(A, name='A', borrow=True)\n",
    "th_s0 = theano.shared(s0, name='s0', borrow=True)\n",
    "# Symbolic variable for the number of steps\n",
    "th_nr_steps = T.lscalar('nr_steps')\n",
    "\n",
    "def th_markov_step(s_tm1): \n",
    "    s_t = T.dot(s_tm1, th_A.T)\n",
    "    # Remember to name variables\n",
    "    s_t.name = 's_t'\n",
    "    return s_t \n",
    "\n",
    "s, _ = theano.scan(th_markov_step, \n",
    "                   outputs_info=[dict(initial=th_s0)], \n",
    "                   n_steps=th_nr_steps)\n",
    "th_markov_chain = theano.function([th_nr_steps], T.concatenate((th_s0[None, :], s), 0))"
   ]
  },
  {
   "cell_type": "code",
   "execution_count": null,
   "metadata": {},
   "outputs": [],
   "source": [
    "th_markov_chain(nr_steps)"
   ]
  },
  {
   "cell_type": "markdown",
   "metadata": {},
   "source": [
    "### Exercise 6.3\n",
    "Complete the theano code for a RNN inside lxmls/deep learning/rnn.py. Use exercise 6.1 for a numpy example and 6.2 to learn how to handle scan. Keep in mind that you only need to implement the forward pass!. Theano will handle backpropagation ofr us. "
   ]
  },
  {
   "cell_type": "code",
   "execution_count": null,
   "metadata": {},
   "outputs": [],
   "source": [
    "rnn = rnns.RNN(nr_words, emb_size, hidden_size, nr_tags, seed=SEED)"
   ]
  },
  {
   "cell_type": "code",
   "execution_count": null,
   "metadata": {},
   "outputs": [],
   "source": [
    "# Compile theano function\n",
    "x = T.ivector('x')\n",
    "th_forward = theano.function([x], rnn._forward(x).T)"
   ]
  },
  {
   "cell_type": "markdown",
   "metadata": {},
   "source": [
    "When working with theano, it is more difficult to localize the source of errors. It is therefore extremely important to work step by step and test the code frequently. To debug we suggest to implement and compile the forward pass first. You can use this code for testing. If it raises no error you are good to go."
   ]
  },
  {
   "cell_type": "code",
   "execution_count": null,
   "metadata": {},
   "outputs": [],
   "source": [
    "assert np.allclose(th_forward(x0), np_rnn.forward(x0)), \\\n",
    "    \"Numpy and Theano forward pass differ!\""
   ]
  },
  {
   "cell_type": "markdown",
   "metadata": {},
   "source": [
    "Once you are confident the forward pass is working you can test the gradients"
   ]
  },
  {
   "cell_type": "code",
   "execution_count": null,
   "metadata": {},
   "outputs": [],
   "source": [
    "# Compile function returning the list of gradients\n",
    "x = T.ivector('x')     # Input words\n",
    "y = T.ivector('y')     # gold tags \n",
    "p_y = rnn._forward(x)\n",
    "cost = -T.mean(T.log(p_y)[T.arange(y.shape[0]), y])\n",
    "grads_fun = theano.function([x, y], [T.grad(cost, par) for par in rnn.param])"
   ]
  },
  {
   "cell_type": "code",
   "execution_count": null,
   "metadata": {},
   "outputs": [],
   "source": [
    "# Compare numpy and theano gradients\n",
    "theano_rnn_gradients = grads_fun(x0, y0)\n",
    "for n in range(len(theano_rnn_gradients)): \n",
    "    assert np.allclose(numpy_rnn_gradients[n], theano_rnn_gradients[n]), \\\n",
    "    \"Numpy and Theano gradients differ in step n\""
   ]
  },
  {
   "cell_type": "markdown",
   "metadata": {},
   "source": [
    "Finally, its time to test our network!. For this, lets first compile a function that does predictions"
   ]
  },
  {
   "cell_type": "code",
   "execution_count": null,
   "metadata": {},
   "outputs": [],
   "source": [
    "rnn_prediction = theano.function([x], T.argmax(p_y, 1))\n",
    "# Lets test the predictions\n",
    "def test_model(sample_seq, rnn_prediction):\n",
    "    words = [train_seq.word_dict[wrd] for wrd in sample_seq.x]\n",
    "    tags = [train_seq.tag_dict[pred] for pred in rnn_prediction(sample_seq.x)]\n",
    "    print [\"/\".join([word, tag]) for word , tag in zip(words, tags)]"
   ]
  },
  {
   "cell_type": "code",
   "execution_count": null,
   "metadata": {},
   "outputs": [],
   "source": [
    "test_model(train_seq[0], rnn_prediction) "
   ]
  },
  {
   "cell_type": "markdown",
   "metadata": {},
   "source": [
    "Now lets define the optimization parameters and compile a batch update function"
   ]
  },
  {
   "cell_type": "code",
   "execution_count": null,
   "metadata": {},
   "outputs": [],
   "source": [
    "lrate = 0.5\n",
    "n_iter = 5"
   ]
  },
  {
   "cell_type": "code",
   "execution_count": null,
   "metadata": {},
   "outputs": [],
   "source": [
    "# Get list of SGD batch update rule for each parameter\n",
    "updates = [(par, par - lrate*T.grad(cost, par)) for par in rnn.param]\n",
    "# compile\n",
    "rnn_batch_update = theano.function([x, y], cost, updates=updates)"
   ]
  },
  {
   "cell_type": "markdown",
   "metadata": {},
   "source": [
    "Finally it is time to run SGD. You can use the following code for this purpose"
   ]
  },
  {
   "cell_type": "code",
   "execution_count": null,
   "metadata": {},
   "outputs": [],
   "source": [
    "nr_words = sum([len(seq.x) for seq in train_seq])\n",
    "for i in range(n_iter):\n",
    "    \n",
    "    # Training\n",
    "    cost = 0\n",
    "    errors = 0\n",
    "    for n, seq in enumerate(train_seq):\n",
    "        cost += rnn_batch_update(seq.x, seq.y)\n",
    "        errors += sum(rnn_prediction(seq.x) != seq.y)\n",
    "    acc_train = 100*(1-errors*1./nr_words) \n",
    "    print \"Epoch %d: Train cost %2.2f Acc %2.2f %%\" % (i+1, cost, acc_train), \n",
    "    \n",
    "    # Evaluation    \n",
    "    errors = 0\n",
    "    for n, seq in enumerate(dev_seq):\n",
    "        errors += sum(rnn_prediction(seq.x) != seq.y)  \n",
    "    acc_dev = 100*(1-errors*1./nr_words) \n",
    "    print \" Devel Acc %2.2f %%\" % acc_dev\n",
    "    sys.stdout.flush()"
   ]
  },
  {
   "cell_type": "markdown",
   "metadata": {},
   "source": [
    "Test the effect of using pre-trained embeddings. Run the following code to download the embeddings, reset the layer parameters and initialize the embedding layer with the pre-trained embeddings. Then run the training code above."
   ]
  },
  {
   "cell_type": "code",
   "execution_count": null,
   "metadata": {},
   "outputs": [],
   "source": [
    "# Embeddings Path\n",
    "EMBEDDINGS = \"../../data/senna_50\"\n",
    "import lxmls.deep_learning.embeddings as emb\n",
    "import os\n",
    "reload(emb)\n",
    "if not os.path.isfile(EMBEDDINGS):\n",
    "    emb.download_embeddings('senna_50', EMBEDDINGS)\n",
    "E = emb.extract_embeddings(EMBEDDINGS, train_seq.x_dict) \n",
    "# Reset model to remove the effect of training\n",
    "rnn = rnns.reset_model(rnn, seed=SEED)\n",
    "# Set the embedding layer to the pre-trained values\n",
    "rnn.param[0].set_value(E.astype(theano.config.floatX)) "
   ]
  },
  {
   "cell_type": "markdown",
   "metadata": {
    "collapsed": true
   },
   "source": [
    "### Exercise 6.4\n",
    "Convince yourself that LSTMs are just more complex RNNs. Run them, play around with the hyper parameters and compare the RNN and LSTM classes."
   ]
  },
  {
   "cell_type": "code",
   "execution_count": null,
   "metadata": {},
   "outputs": [],
   "source": [
    "lstm = rnns.LSTM(nr_words, emb_size, hidden_size, nr_tags)\n",
    "lstm_prediction = theano.function([x], \n",
    "                                  T.argmax(lstm._forward(x), 1))\n",
    "lstm_cost = -T.mean(T.log(lstm._forward(x))[T.arange(y.shape[0]), y])"
   ]
  },
  {
   "cell_type": "code",
   "execution_count": null,
   "metadata": {},
   "outputs": [],
   "source": [
    "# Get list of SGD batch update rule for each parameter\n",
    "lstm_updates = [(par, par - lrate*T.grad(lstm_cost, par)) for par in lstm.param]\n",
    "# compile\n",
    "lstm_batch_update = theano.function([x, y], lstm_cost, \n",
    "                                    updates=lstm_updates)"
   ]
  },
  {
   "cell_type": "code",
   "execution_count": null,
   "metadata": {},
   "outputs": [],
   "source": [
    "nr_words = sum([len(seq.x) for seq in train_seq])\n",
    "for i in range(n_iter):\n",
    "    \n",
    "    # Training\n",
    "    cost = 0\n",
    "    errors = 0\n",
    "    for n, seq in enumerate(train_seq):\n",
    "        cost += lstm_batch_update(seq.x, seq.y)\n",
    "        errors += sum(lstm_prediction(seq.x) != seq.y)\n",
    "    acc_train = 100*(1-errors*1./nr_words) \n",
    "    print \"Epoch %d: Train cost %2.2f Acc %2.2f %%\" % (i+1, cost, acc_train), \n",
    "    \n",
    "    # Evaluation:\n",
    "    errors = 0\n",
    "    for n, seq in enumerate(dev_seq):\n",
    "        errors += sum(lstm_prediction(seq.x) != seq.y)  \n",
    "    acc_dev = 100*(1-errors*1./nr_words) \n",
    "    print \" Devel Acc %2.2f %%\" % acc_dev\n",
    "    sys.stdout.flush()"
   ]
  },
  {
   "cell_type": "code",
   "execution_count": null,
   "metadata": {},
   "outputs": [],
   "source": []
  }
 ],
 "metadata": {
  "kernelspec": {
   "display_name": "Python 2",
   "language": "python",
   "name": "python2"
  },
  "language_info": {
   "codemirror_mode": {
    "name": "ipython",
    "version": 2
   },
   "file_extension": ".py",
   "mimetype": "text/x-python",
   "name": "python",
   "nbconvert_exporter": "python",
   "pygments_lexer": "ipython2",
   "version": "2.7.5"
  }
 },
 "nbformat": 4,
 "nbformat_minor": 1
}
